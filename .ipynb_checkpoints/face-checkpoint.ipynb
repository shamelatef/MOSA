{
 "cells": [
  {
   "cell_type": "code",
   "execution_count": 1,
   "id": "71c814f0",
   "metadata": {},
   "outputs": [
    {
     "data": {
      "text/plain": [
       "2"
      ]
     },
     "execution_count": 1,
     "metadata": {},
     "output_type": "execute_result"
    }
   ],
   "source": [
    "1+1"
   ]
  },
  {
   "cell_type": "code",
   "execution_count": 6,
   "id": "e0b65389",
   "metadata": {},
   "outputs": [
    {
     "name": "stdout",
     "output_type": "stream",
     "text": [
      "shamel\n",
      "shamel\n",
      "shamel\n",
      "shamel\n",
      "shamel\n",
      "shamel\n",
      "shamel\n",
      "shamel\n",
      "shamel\n",
      "shamel\n"
     ]
    }
   ],
   "source": [
    "import face_recognition\n",
    "import cv2\n",
    "import numpy as np\n",
    "import csv\n",
    "import os\n",
    "from datetime import datetime\n",
    "\n",
    "\n",
    "video_capture = cv2.VideoCapture(0)\n",
    "\n",
    "jobs_image = face_recognition.load_image_file(\"images/amr.jpeg\")\n",
    "jobs_encoding = face_recognition.face_encodings(jobs_image)[0]\n",
    "\n",
    "ratan_tata_image = face_recognition.load_image_file(\"images/basbosa.jpeg\")\n",
    "ratan_tata_encoding = face_recognition.face_encodings(ratan_tata_image)[0]\n",
    "\n",
    "sadmona_image = face_recognition.load_image_file(\"images/shamel.jpeg\")\n",
    "sadmona_encoding = face_recognition.face_encodings(sadmona_image)[0]\n",
    "\n",
    "known_face_encoding = [\n",
    "jobs_encoding,\n",
    "ratan_tata_encoding,\n",
    "sadmona_encoding\n",
    "]\n",
    "\n",
    "known_faces_names = [\n",
    "\"AMR\",\n",
    "\"Shamel\",\n",
    "\"Basbosa\"\n",
    "\n",
    "]\n",
    "\n",
    "\n",
    "students = known_faces_names.copy()\n",
    "\n",
    "face_locations = []\n",
    "face_encodings = []\n",
    "face_names = []\n",
    "s=True\n",
    "\n",
    "now = datetime.now()\n",
    "current_date = now.strftime(\"%Y-%m-%d\")\n",
    "\n",
    "f = open(current_date+'.csv','w+',newline = '')\n",
    "lnwriter = csv.writer(f)\n",
    "\n",
    "\n",
    "\n",
    "\n",
    "while True:\n",
    "    _,frame = video_capture.read()\n",
    "    small_frame = cv2.resize(frame,(0,0),fx=0.25,fy=0.25)\n",
    "    rgb_small_frame = small_frame[:,:,::-1]\n",
    "    if s:\n",
    "        face_locations = face_recognition.face_locations(rgb_small_frame)\n",
    "        face_encodings = face_recognition.face_encodings (rgb_small_frame, face_locations)\n",
    "        face_names = []\n",
    "        \n",
    "    for face_encoding in face_encodings:\n",
    "            matches = face_recognition.compare_faces(known_face_encoding,face_encoding)\n",
    "            name=\"\"\n",
    "            face_distance = face_recognition.face_distance(known_face_encoding,face_encoding)\n",
    "            best_match_index = np.argmin(face_distance)\n",
    "            if matches[best_match_index]:\n",
    "                name = known_faces_names[best_match_index]\n",
    "\n",
    "            face_names.append(name)\n",
    "            if name in known_faces_names:\n",
    "                #print (\"shamel\")\n",
    "                font = cv2.FONT_HERSHEY_SIMPLEX\n",
    "                bottomLeftCornerOfText = (10,100)\n",
    "                fontScale              = 1.5\n",
    "                fontColor              = (255,0,0)\n",
    "                thickness              = 3\n",
    "                lineType               = 2\n",
    "\n",
    "                cv2.putText(frame,name+' Present', \n",
    "                    bottomLeftCornerOfText, \n",
    "                    font, \n",
    "                    fontScale,\n",
    "                    fontColor,\n",
    "                    thickness,\n",
    "                    lineType)\n",
    "            if name in students:\n",
    "                print(\"shamel\")\n",
    "    cv2.imshow(\"attendence system\",frame)\n",
    "    if cv2.waitKey(1) & 0xFF == ord('q'):\n",
    "        break\n",
    "\n",
    "video_capture.release()\n",
    "cv2.destroyAllWindows()\n",
    "f.close()"
   ]
  },
  {
   "cell_type": "code",
   "execution_count": null,
   "id": "cf5ade92",
   "metadata": {},
   "outputs": [],
   "source": []
  }
 ],
 "metadata": {
  "kernelspec": {
   "display_name": "Python 3 (ipykernel)",
   "language": "python",
   "name": "python3"
  },
  "language_info": {
   "codemirror_mode": {
    "name": "ipython",
    "version": 3
   },
   "file_extension": ".py",
   "mimetype": "text/x-python",
   "name": "python",
   "nbconvert_exporter": "python",
   "pygments_lexer": "ipython3",
   "version": "3.10.9"
  }
 },
 "nbformat": 4,
 "nbformat_minor": 5
}
